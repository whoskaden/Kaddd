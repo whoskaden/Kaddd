{
 "cells": [
  {
   "cell_type": "markdown",
   "metadata": {},
   "source": [
    "---\n",
    "toc: true\n",
    "comments: false\n",
    "layout: post\n",
    "title: King Boo :)\n",
    "description: Sprite animation of King Boo \n",
    "type: hacks\n",
    "courses: { compsci: {week: 5} }\n",
    "---\n",
    "\n"
   ]
  },
  {
   "cell_type": "code",
   "execution_count": null,
   "metadata": {
    "vscode": {
     "languageId": "html"
    }
   },
   "outputs": [],
   "source": [
    "<body> \n",
    "    <div>\n",
    "        <canvas id=\"spriteContainer\">\n",
    "            <img id=\"KingBooSprite\" src=\"/vscode/images/king_boo_sprite.png\">\n",
    "        </canvas>\n",
    "        <div id=\"controls\">\n",
    "            <input type=\"radio\" name=\"animation\" id=\"idle\" checked> \n",
    "        </div>\n",
    "    </div>    \n",
    "</body>\n",
    "<script>\n",
    "    window.addEventListener('load', function () {\n",
    "        const canvas = document.getElementById('spriteContainer');  // sets the canvas as a variable by calling the canvas element from the HTML code, using the id we set\n",
    "        const ctx = canvas.getContext('2d'); // the getContext function is a given function within the canvas object. It allows us more functionality with the sprite image.\n",
    "\n",
    "        // constant variables used for sprite and canvas\n",
    "        const SPRITE_WIDTH = 160;\n",
    "        const SPRITE_HEIGHT = 144;\n",
    "        const SCALE_FACTOR = 2;\n",
    "        const FRAME_LIMIT = 48;\n",
    "        const FRAME_RATE = 15;\n",
    "\n",
    "        // sets canvas properties\n",
    "        canvas.width = SPRITE_WIDTH * SCALE_FACTOR;\n",
    "        canvas.height = SPRITE_HEIGHT * SCALE_FACTOR;\n",
    "\n",
    "        //more code will be placed here later\n",
    "    });\n",
    "\n",
    "</script>"
   ]
  }
 ],
 "metadata": {
  "kernelspec": {
   "display_name": "Python 3",
   "language": "python",
   "name": "python3"
  },
  "language_info": {
   "name": "python",
   "version": "3.11.4"
  },
  "orig_nbformat": 4
 },
 "nbformat": 4,
 "nbformat_minor": 2
}
