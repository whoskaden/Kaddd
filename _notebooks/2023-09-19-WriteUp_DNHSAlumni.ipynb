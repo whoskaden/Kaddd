{
 "cells": [
  {
   "cell_type": "markdown",
   "metadata": {},
   "source": [
    "---\n",
    "toc: true\n",
    "comments: false\n",
    "layout: post\n",
    "title: Writeup for DNHS Alumni \n",
    "description: Writeup/notes of DNHS alumni panel\n",
    "type: hacks\n",
    "courses: { compsci: {week: 5} }\n",
    "---\n",
    "\n"
   ]
  },
  {
   "cell_type": "markdown",
   "metadata": {},
   "source": [
    "## Takeaways\n",
    "\n",
    "- Do a lot of apps for CS since its a very competitve major + a lot of luck involved \n",
    "- Could try finding a more niche major which could make it easier to get accepted \n",
    "- Any extracurricular especially a teaching position or something that shows you know like projects, web development, etc are important for apps \n",
    "- Spend some extra time/practice on building projects outside of class, so in the future for interviews you can show what types of tools you know how to use. \n",
    "- Organization and having some sort of plan will make a big difference in finding a job from employers \n",
    "- Find something that your actually passionate about and actually enjoy like making a app or website and it doesn't have to be something that would change the world but could just be something stupid and fun \n",
    "- Leet Code is possibly the most important factor in getting considered for a job, since it helps you practice algorithms + code \n",
    "\n",
    "# \"Kool Aid Cheat Code\" \n",
    "- Vercel is a deployment tool used to share/link your projects to other people like interviewers\n",
    "- Svelt Kit a tool used for web development \n",
    "- Put personal website as a personal project to put on your resume \n",
    "- You can put in a lot of techincal skills into the framework of the website which will help you practice \n",
    "- Flask is a micro web framework written in python which can help you make new things \n",
    "- Make sure you do the fundamentals before you do this to have a strong foundation \n",
    "- Doing all these small things will add up which will help you in the long run \n",
    "\n",
    "## Reflection \n",
    "\n",
    "After taking some insights from the DNHS alumnis who have gone through multiple expierences like college, internships, interviews, and just have a better general knowledge of CS, I've learned a lot and honestly some questions I've had even if they were small were answered when I was listening to the panel which I feel is pretty cool and important. My key takeways include recognizing the very competitive nature in CS and potential advantages of pursuing a specialized niche, which I hadn't really thought about which I thought was cool. Another equally important takeaway is the emphasis on extracurricular involvment, especially roles like teaching or hands on projects like web development, and it won't only let me practice my skill set but also lets me put something on my resume and I'll definitely be trying to do something like this. I also felt like the \"Kool Aid Cheat Code\" part of the panel was pretty interesting and important since it showed me the significance of utilizing different tools to showcase your projects/make them like Vercel, Svelte Kit, Flash, or the importance of making a personal website as a project to showcase your skill to employers. All in all, I'll be keeping these takeaways in mind for a lot of things like future internships, college apps, or interviews for jobs and I feel like I learned a lot from this panel. "
   ]
  }
 ],
 "metadata": {
  "kernelspec": {
   "display_name": "Python 3",
   "language": "python",
   "name": "python3"
  },
  "language_info": {
   "name": "python",
   "version": "3.11.4"
  },
  "orig_nbformat": 4
 },
 "nbformat": 4,
 "nbformat_minor": 2
}
