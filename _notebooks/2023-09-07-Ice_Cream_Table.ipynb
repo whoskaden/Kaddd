{
 "cells": [
  {
   "cell_type": "markdown",
   "metadata": {},
   "source": [
    "---\n",
    "toc: True\n",
    "comments: True\n",
    "layout: post\n",
    "title: Ice Cream Table \n",
    "description: Ice Cream Table :)\n",
    "courses: {'compsci': {'week': 3}}\n",
    "type: hacks\n",
    "---"
   ]
  },
  {
   "cell_type": "markdown",
   "metadata": {},
   "source": [
    "<h1>Ice Cream!!</h1>\n",
    "\n",
    "<body>\n",
    "    <table class=\"table\">\n",
    "        <thead>\n",
    "            <tr>\n",
    "                <th>Flavor</th>\n",
    "            </tr>\n",
    "        </thead>\n",
    "        <tbody>\n",
    "            <tr>\n",
    "                <td>Vanilla</td>\n",
    "            </tr>\n",
    "            <tr>\n",
    "                <td>Chocolate</td>\n",
    "            </tr>\n",
    "             <tr>\n",
    "                <td>Cookie Dough</td>\n",
    "            </tr>\n",
    "             <tr>\n",
    "                <td>Mint Chocolate Chip</td>\n",
    "            </tr>\n",
    "             <tr>\n",
    "                <td>Oreo</td>\n",
    "            </tr>\n",
    "             <tr>\n",
    "                <td>Brookie</td>\n",
    "            </tr>\n",
    "        </tbody>\n",
    "    </table>\n",
    "</body>\n",
    "<body>\n",
    "    <table class =\"table\">\n",
    "        <thead>\n",
    "            <tr>\n",
    "                <th></th>\n",
    "                <th>Small</th>\n",
    "                <th>Medium</th>\n",
    "                <th>Large</th>\n",
    "            </tr>\n",
    "            <tr>\n",
    "                <td>Sugar Cone</td>\n",
    "                <td>$3.00</td>\n",
    "                <td>$5.50</td>\n",
    "                <td>$6.00</td>\n",
    "            </tr>\n",
    "            <tr>\n",
    "                <td>Waffle Cone</td>\n",
    "                <td>$3.50</td>\n",
    "                <td>$6.00</td>\n",
    "                <td>$6.50</td>\n",
    "            </tr>\n",
    "            <tr>\n",
    "                <td>Cup</td>\n",
    "                <td>$3.00</td>\n",
    "                <td>$5.50</td>\n",
    "                <td>$6.00</td>\n",
    "            </tr>\n",
    "        </thead>\n",
    "    </table>\n",
    "</body>\n"
   ]
  }
 ],
 "metadata": {
  "kernelspec": {
   "display_name": "base",
   "language": "python",
   "name": "python3"
  },
  "language_info": {
   "codemirror_mode": {
    "name": "ipython",
    "version": 3
   },
   "file_extension": ".py",
   "mimetype": "text/x-python",
   "name": "python",
   "nbconvert_exporter": "python",
   "pygments_lexer": "ipython3",
   "version": "3.9.12"
  },
  "orig_nbformat": 4
 },
 "nbformat": 4,
 "nbformat_minor": 2
}
